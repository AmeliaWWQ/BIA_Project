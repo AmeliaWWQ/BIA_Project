{
 "cells": [
  {
   "cell_type": "code",
   "execution_count": 5,
   "id": "2a11f669-8355-4893-b926-7d83fe903524",
   "metadata": {},
   "outputs": [
    {
     "name": "stdout",
     "output_type": "stream",
     "text": [
      "Parsed data has been written to 'Organized_train_label.csv'.\n"
     ]
    }
   ],
   "source": [
    "#PARSING THE CSV FILE\n",
    "\n",
    "import csv\n",
    "\n",
    "# Define the symbols you want to use for parsing cells\n",
    "symbols = [';']  # Example symbols: semicolon, comma, colon\n",
    "\n",
    "# Path to the input CSV file\n",
    "input_file = 'train_labels.csv'\n",
    "\n",
    "# Path to the output CSV file\n",
    "output_file = 'Organized_train_label.csv'\n",
    "# Open the input CSV file for reading\n",
    "with open(input_file, 'r') as csvfile:\n",
    "    # Create a CSV reader object\n",
    "    csvreader = csv.reader(csvfile)\n",
    "    \n",
    "    # Open the output CSV file for writing\n",
    "    with open(output_file, 'w', newline='') as outfile:\n",
    "        # Create a CSV writer object\n",
    "        csvwriter = csv.writer(outfile)\n",
    "        \n",
    "        # Iterate through each row\n",
    "        for row in csvreader:\n",
    "            parsed_row = []  # Initialize list to store parsed row data\n",
    "            \n",
    "            # Iterate through each cell in the row\n",
    "            for cell in row:\n",
    "                parsed_cells = []  # Initialize list to store parsed cell data\n",
    "                \n",
    "                # Split the cell content by symbols\n",
    "                for symbol in symbols:\n",
    "                    parsed_cells.extend(cell.split(symbol))\n",
    "                \n",
    "                # Append the parsed cell data to the parsed row list\n",
    "                parsed_row.extend(parsed_cells)\n",
    "            \n",
    "            # Write the parsed row data to the output CSV file\n",
    "            csvwriter.writerow(parsed_row)\n",
    "\n",
    "print(f\"Parsed data has been written to '{output_file}'.\")"
   ]
  },
  {
   "cell_type": "code",
   "execution_count": 9,
   "id": "6ac00ed0-c688-4e89-afe4-5a822369b124",
   "metadata": {},
   "outputs": [
    {
     "name": "stdout",
     "output_type": "stream",
     "text": [
      "Datasets have been divided based on the value in the specified column.\n"
     ]
    }
   ],
   "source": [
    "#DIVIDING DATA SET BASED ON THE CATEGORIZATION OF NRG, RG, OR U\n",
    "import csv\n",
    "import os\n",
    "\n",
    "# Path to the input CSV file\n",
    "input_file = 'Organized_train_label.csv'\n",
    "\n",
    "# Name of the specific named column to use for division\n",
    "column_name = 'Final Label'\n",
    "\n",
    "# Create a directory to store the divided datasets\n",
    "output_directory = 'divided_datasets'\n",
    "os.makedirs(output_directory, exist_ok=True)\n",
    "\n",
    "# Open the input CSV file for reading\n",
    "with open(input_file, 'r') as csvfile:\n",
    "    # Create a CSV reader object\n",
    "    csvreader = csv.DictReader(csvfile)\n",
    "    \n",
    "    # Iterate through each row and group them based on the value in the specified column\n",
    "    grouped_data = {}\n",
    "    for row in csvreader:\n",
    "        column_value = row[column_name]\n",
    "        if column_value not in grouped_data:\n",
    "            grouped_data[column_value] = []\n",
    "        grouped_data[column_value].append(row)\n",
    "\n",
    "# Write each group of rows to a separate CSV file\n",
    "for group_name, group_rows in grouped_data.items():\n",
    "    output_file = os.path.join(output_directory, f'{group_name}.csv')\n",
    "    with open(output_file, 'w', newline='') as outfile:\n",
    "        # Create a CSV writer object\n",
    "        csvwriter = csv.DictWriter(outfile, fieldnames=group_rows[0].keys())\n",
    "        csvwriter.writeheader()\n",
    "        csvwriter.writerows(group_rows)\n",
    "\n",
    "print(\"Datasets have been divided based on the value in the specified column.\")\n"
   ]
  }
 ],
 "metadata": {
  "kernelspec": {
   "display_name": "Python 3 (ipykernel)",
   "language": "python",
   "name": "python3"
  },
  "language_info": {
   "codemirror_mode": {
    "name": "ipython",
    "version": 3
   },
   "file_extension": ".py",
   "mimetype": "text/x-python",
   "name": "python",
   "nbconvert_exporter": "python",
   "pygments_lexer": "ipython3",
   "version": "3.11.5"
  }
 },
 "nbformat": 4,
 "nbformat_minor": 5
}
